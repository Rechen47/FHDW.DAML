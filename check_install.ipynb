{
 "cells": [
  {
   "cell_type": "markdown",
   "id": "1fd5683b",
   "metadata": {},
   "source": [
    "### Versionsabfrage der Python Umgebung und eingesetzter Bibliotheken\n"
   ]
  },
  {
   "cell_type": "code",
   "execution_count": null,
   "id": "f7fb4604",
   "metadata": {},
   "outputs": [],
   "source": [
    "#!pip install imblearn\n"
   ]
  },
  {
   "cell_type": "code",
   "execution_count": 1,
   "id": "a53b295f",
   "metadata": {},
   "outputs": [
    {
     "name": "stdout",
     "output_type": "stream",
     "text": [
      "python version 3.9.13\n",
      "\n",
      "Selected Jupyter core packages...\n",
      "IPython          : 8.12.0\n",
      "ipykernel        : 6.19.2\n",
      "ipywidgets       : 8.0.4\n",
      "jupyter_client   : 8.1.0\n",
      "jupyter_core     : 5.3.0\n",
      "jupyter_server   : 1.23.4\n",
      "jupyterlab       : 3.5.3\n",
      "nbclient         : 0.5.13\n",
      "nbconvert        : 6.5.4\n",
      "nbformat         : 5.7.0\n",
      "notebook         : 6.5.4\n",
      "qtconsole        : 5.4.2\n",
      "traitlets        : 5.7.1\n",
      "\n",
      "pandas version 1.4.4\n",
      "numpy version 1.23.5\n",
      "seaborn version 0.12.2\n",
      "matplotlib version 3.7.1\n",
      "sklearn version 1.1.2\n",
      "imbalanced-learn version 0.9.1\n"
     ]
    }
   ],
   "source": [
    "###\n",
    "# Falls eine Bibliothek fehlt : !pip install <Bibliothek>\n",
    "#\n",
    "from platform import python_version\n",
    "print(\"python version \" + python_version()+\"\\n\")\n",
    "!jupyter --version\n",
    "import pandas as pd\n",
    "print (\"\\npandas version \" + pd.__version__)\n",
    "import numpy as np\n",
    "print (\"numpy version \" + np.__version__)\n",
    "import seaborn as sns\n",
    "print (\"seaborn version \" + sns.__version__)\n",
    "import matplotlib as plt\n",
    "print (\"matplotlib version \" + plt.__version__)\n",
    "import sklearn as sk\n",
    "print (\"sklearn version \" + sk.__version__)\n",
    "import imblearn as imb\n",
    "print (\"imbalanced-learn version \" + imb.__version__)\n"
   ]
  },
  {
   "cell_type": "code",
   "execution_count": null,
   "id": "b0735e70",
   "metadata": {},
   "outputs": [],
   "source": []
  }
 ],
 "metadata": {
  "kernelspec": {
   "display_name": "Python 3 (ipykernel)",
   "language": "python",
   "name": "python3"
  },
  "language_info": {
   "codemirror_mode": {
    "name": "ipython",
    "version": 3
   },
   "file_extension": ".py",
   "mimetype": "text/x-python",
   "name": "python",
   "nbconvert_exporter": "python",
   "pygments_lexer": "ipython3",
   "version": "3.9.13"
  }
 },
 "nbformat": 4,
 "nbformat_minor": 5
}
